{
  "cells": [
    {
      "cell_type": "markdown",
      "metadata": {},
      "source": ["#📌 Extração"]
    },
    {
      "cell_type": "code",
      "execution_count": null,
      "metadata": {},
      "outputs": [],
      "source": [
        "import pandas as pd\n",
        "import matplotlib.pyplot as plt\n",
        "import seaborn as sns\n",
        "\n",
        "# 1️⃣ Carregar dados\n",
        "url = \"https://raw.githubusercontent.com/alura-cursos/challenge2-data-science/refs/heads/main/TelecomX_Data.json\"\n",
        "df = pd.read_json(url)\n",
        "\n",
        "# Expandir colunas aninhadas\n",
        "df_customer = pd.json_normalize(df[\"customer\"])\n",
        "df_phone = pd.json_normalize(df[\"phone\"])\n",
        "df_internet = pd.json_normalize(df[\"internet\"])\n",
        "df_account = pd.json_normalize(df[\"account\"])\n",
        "\n",
        "# Juntar tudo\n",
        "df_expanded = pd.concat([\n",
        "    df.drop(columns=[\"customer\", \"phone\", \"internet\", \"account\"]),\n",
        "    df_customer,\n",
        "    df_phone,\n",
        "    df_internet,\n",
        "    df_account\n",
        "], axis=1)\n",
        "\n",
        "print(\"✅ Colunas disponíveis:\", df_expanded.columns.tolist())\n",
        "\n",
        "# Tratar valores ausentes\n",
        "df_expanded.fillna({\"Churn Reason\": \"Não informado\"}, inplace=True)\n",
        "print(\"✅ Dados carregados e normalizados!\")"
      ]
    },
    {
      "cell_type": "markdown",
      "metadata": {},
      "source": ["#🔧 Transformação"]
    },
    {
      "cell_type": "code",
      "execution_count": null,
