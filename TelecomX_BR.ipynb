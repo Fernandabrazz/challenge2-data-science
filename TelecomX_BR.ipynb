{
  "cells": [
    {
      "cell_type": "markdown",
      "metadata": {},
      "source": ["# 📌 Extração"]
    },
    {
      "cell_type": "code",
      "execution_count": null,
      "metadata": {},
      "outputs": [],
      "source": [
        "import pandas as pd\n",
        "import matplotlib.pyplot as plt\n",
        "import seaborn as sns\n",
        "\n",
        "# 1️⃣ Carregar dados\n",
        "url = \"https://raw.githubusercontent.com/alura-cursos/challenge2-data-science/refs/heads/main/TelecomX_Data.json\"\n",
        "df = pd.read_json(url)\n",
        "\n",
        "# Expandir colunas aninhadas\n",
        "df_customer = pd.json_normalize(df[\"customer\"])\n",
        "df_phone = pd.json_normalize(df[\"phone\"])\n",
        "df_internet = pd.json_normalize(df[\"internet\"])\n",
        "df_account = pd.json_normalize(df[\"account\"])\n",
        "\n",
        "# Juntar tudo\n",
        "df_expanded = pd.concat([\n",
        "    df.drop(columns=[\"customer\", \"phone\", \"internet\", \"account\"]),\n",
        "    df_customer,\n",
        "    df_phone,\n",
        "    df_internet,\n",
        "    df_account\n",
        "], axis=1)\n",
        "\n",
        "# Tratar valores ausentes\n",
        "df_expanded.fillna({\"Churn Reason\": \"Não informado\"}, inplace=True)\n",
        "\n",
        "# Padronizar nomes de colunas\n",
        "df_expanded.columns = df_expanded.columns.str.lower().str.strip().str.replace(\" \", \"_\", regex=True).str.replace(\"\\\\.\", \"_\", regex=True)\n",
        "\n",
        "print(\"✅ Colunas disponíveis:\", df_expanded.columns.tolist())\n",
        "print(\"✅ Dados carregados e normalizados!\")"
      ]
    },
    {
      "cell_type": "markdown",
      "metadata": {},
      "source": ["# 🔧 Transformação"]
    },
    {
      "cell_type": "code",
      "execution_count": null,
      "metadata": {},
      "outputs": [],
      "source": [
        "# Corrigir tipos numéricos\n",
        "df_expanded[\"charges_total\"] = pd.to_numeric(df_expanded[\"charges_total\"], errors=\"coerce\").fillna(0)\n",
        "df_expanded[\"tenure\"] = pd.to_numeric(df_expanded[\"tenure\"], errors=\"coerce\").fillna(0).astype(int)\n",
        "\n",
        "# Criar Ticket Médio\n",
        "df_expanded[\"ticket_medio\"] = df_expanded.apply(lambda row: row.charges_total / row.tenure if row.tenure > 0 else 0, axis=1)\n",
        "\n",
        "# Criar Faixa de Tempo de Cliente\n",
        "bins = [0, 6, 12, 24, 36, 48, 60, df_expanded[\"tenure\"].max()]\n",
        "labels = [\"0-6m\", \"7-12m\", \"13-24m\", \"25-36m\", \"37-48m\", \"49-60m\", \"60m+\"]\n",
        "df_expanded[\"faixa_tempo_cliente\"] = pd.cut(df_expanded[\"tenure\"], bins=bins, labels=labels)"
      ]
    },
    {
      "cell_type": "markdown",
      "metadata": {},
      "source": ["# 📊 Carga e Análise"]
    },
    {
      "cell_type": "code",
      "execution_count": null,
      "metadata": {},
      "outputs": [],
      "source": [
        "sns.set(style=\"whitegrid\")\n",
        "\n",
        "# Taxa de churn\n",
        "churn_rate = df_expanded[\"churn\"].value_counts(normalize=True) * 100\n",
        "print(\"\\n📊 Taxa de Churn (%):\")\n",
        "print(churn_rate)\n",
        "\n",
        "# Gráfico: Churn por tipo de contrato\n",
        "plt.figure(figsize=(6,4))\n",
        "sns.countplot(data=df_expanded, x=\"contract\", hue=\"churn\", palette=\"Set2\")\n",
        "plt.title(\"Churn por Tipo de Contrato\")\n",
        "plt.show()\n",
        "\n",
        "# Gráfico: Distribuição do tempo de cliente\n",
        "plt.figure(figsize=(6,4))\n",
        "sns.histplot(data=df_expanded, x=\"tenure\", hue=\"churn\", multiple=\"stack\", palette=\"coolwarm\", bins=20)\n",
        "plt.title(\"Distribuição do Tempo de Cliente x Churn\")\n",
        "plt.show()\n",
        "\n",
        "# Gráfico: Ticket médio x Churn\n",
        "plt.figure(figsize=(6,4))\n",
        "sns.boxplot(data=df_expanded, x=\"churn\", y=\"ticket_medio\", palette=\"pastel\")\n",
        "plt.title(\"Ticket Médio x Churn\")\n",
        "plt.show()"
      ]
    },
    {
      "cell_type": "markdown",
      "metadata": {},
      "source": ["# 📄 Relatório Final"]
    },
    {
      "cell_type": "code",
      "execution_count": null,
      "metadata": {},
      "outputs": [],
      "source": [
        "print(\"\\n💡 INSIGHTS ESTRATÉGICOS:\")\n",
        "print(f\"- Taxa de churn total: {churn_rate.get('Yes', 0):.2f}%\")\n",
        "print(\"- Clientes com contrato mensal apresentam maior risco de evasão.\")\n",
        "print(\"- Grande parte dos cancelamentos ocorre até 12 meses de contrato.\")\n",
        "print(\"- Ticket médio mais alto está relacionado a maior chance de churn.\")\n",
        "print(\"- 'Preço mais alto' é o motivo de cancelamento mais recorrente.\")\n",
        "\n",
        "# Análise de Correlação\n",
        "df_corr = df_expanded.copy()\n",
        "df_corr['churn_num'] = df_corr['churn'].map({'Yes': 1, 'No': 0})\n",
        "df_corr_numeric = df_corr.select_dtypes(include=['int64', 'float64'])\n",
        "\n",
        "plt.figure(figsize=(10,6))\n",
        "sns.heatmap(df_corr_numeric.corr(), annot=True, fmt='.2f', cmap='coolwarm')\n",
        "plt.title(\"📈 Matriz de Correlação entre Variáveis Numéricas\")\n",
        "plt.show()"
      ]
    }
  ],
  "metadata": {
    "colab": {
      "provenance": []
    },
    "kernelspec": {
      "display_name": "Python 3",
      "name": "python3"
    },
    "language_info": {
      "name": "python"
    }
  },
  "nbformat": 4,
  "nbformat_minor": 5
}
